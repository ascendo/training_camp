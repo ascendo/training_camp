{
 "cells": [
  {
   "cell_type": "markdown",
   "metadata": {},
   "source": [
    "# GO Term Enrichment #"
   ]
  },
  {
   "cell_type": "markdown",
   "metadata": {},
   "source": [
    "### IMPORTANT: Please make sure that you are using the bash kernel to run this notebook. ###\n",
    "### IMPORTANT: Run the command below to git pull and make sure you are running the latest code!! ###\n",
    "#### (Do this at the beginning of every session) ###"
   ]
  },
  {
   "cell_type": "code",
   "execution_count": 5,
   "metadata": {
    "collapsed": false
   },
   "outputs": [
    {
     "name": "stdout",
     "output_type": "stream",
     "text": [
      "No local changes to save\r\n",
      "remote: Counting objects: 6, done.        \r\n",
      "remote: Compressing objects:  50% (1/2)           \r",
      "remote: Compressing objects: 100% (2/2)           \r",
      "remote: Compressing objects: 100% (2/2), done.        \r\n",
      "remote: Total 6 (delta 4), reused 6 (delta 4), pack-reused 0        \r\n",
      "Unpacking objects:  16% (1/6)   \r",
      "Unpacking objects:  33% (2/6)   \r",
      "Unpacking objects:  50% (3/6)   \r",
      "Unpacking objects:  66% (4/6)   \r",
      "Unpacking objects:  83% (5/6)   \r",
      "Unpacking objects: 100% (6/6)   \r",
      "Unpacking objects: 100% (6/6), done.\r\n",
      "From https://github.com/kundajelab/training_camp\r\n",
      "   eb66fc7..c699e85  master     -> origin/master\r\n",
      "Updating eb66fc7..c699e85\r\n",
      "Fast-forward\r\n",
      " ....2 Calling differentially expressed peaks.ipynb | 185 +++++----------------\r\n",
      " 1 file changed, 37 insertions(+), 148 deletions(-)\r\n"
     ]
    }
   ],
   "source": [
    "cd /srv/scratch/training_camp/tc2017/`whoami`/src/training_camp\n",
    "git stash \n",
    "git pull "
   ]
  },
  {
   "cell_type": "code",
   "execution_count": 8,
   "metadata": {
    "collapsed": false
   },
   "outputs": [
    {
     "name": "stdout",
     "output_type": "stream",
     "text": []
    }
   ],
   "source": [
    "### Set up variables storing the location of our data\n",
    "### The proper way to load your variables is with the ~/.bashrc command, but this is very slow in iPython \n",
    "export SUNETID=\"$(whoami)\"\n",
    "export WORK_DIR=\"/srv/scratch/training_camp/tc2017/${SUNETID}\"\n",
    "export DATA_DIR=\"${WORK_DIR}/data\"\n",
    "export FASTQ_DIR=\"${DATA_DIR}/fastq/\"\n",
    "export SRC_DIR=\"${WORK_DIR}/src/training_camp/src/\"\n",
    "\n",
    "export ANALYSIS_DIR=\"${WORK_DIR}/analysis/\"\n",
    "export TRIMMED_DIR=\"$ANALYSIS_DIR/trimmed\"\n",
    "export ALIGNMENT_DIR=\"$ANALYSIS_DIR/aligned/\"\n",
    "export TAGALIGN_DIR=\"$ANALYSIS_DIR/tagAlign/\"\n",
    "export PEAKS_DIR=\"$ANALYSIS_DIR/peaks/\"\n",
    "export SIGNAL_DIR=\"${ANALYSIS_DIR}signal/\"\n",
    "export DESEQ_DIR=\"${ANALYSIS_DIR}deseq/\"\n",
    "\n",
    "export FOLDCHANGE_DIR=\"${SIGNAL_DIR}foldChange/\"\n",
    "export COUNTS_DIR=\"${SIGNAL_DIR}counts/\"\n",
    "\n",
    "export YEAST_DIR=\"/srv/scratch/training_camp/saccer3/seq\"\n",
    "export YEAST_INDEX=\"/srv/scratch/training_camp/saccer3/bowtie2_index/saccer3\"\n",
    "export YEAST_CHR=\"/srv/scratch/training_camp/saccer3/sacCer3.chrom.sizes\"\n",
    "\n",
    "export TMP=\"${WORK_DIR}/tmp\"\n",
    "export TEMP=$TMP \n",
    "export TMPDIR=$TMP\n",
    "\n",
    "export RLIBS=$RLIBS:\"/usr/local/lib/R/site-library\"\n",
    "export MASTER_DATA=\"/srv/scratch/training_camp/data/tc2017\""
   ]
  },
  {
   "cell_type": "markdown",
   "metadata": {},
   "source": [
    "In this tutorial, we will focus on GO term enrichment analysis: \n",
    "![Analysis pipeline](part5.png)"
   ]
  },
  {
   "cell_type": "markdown",
   "metadata": {},
   "source": [
    "We will map the differentially expressed peaks to their nearest genes and search for GO term enrichment.\n",
    "\n",
    "Make sure you have **$PEAKS_DIR/peaks2genes.bed** - if you don't, refer to the section on peak calling which indicates how to use the closestBed tool to obtain this file.\n",
    "\n",
    "Run the following commands to map all the sigPeakNames files to their nearest genes:"
   ]
  },
  {
   "cell_type": "code",
   "execution_count": 19,
   "metadata": {
    "collapsed": false
   },
   "outputs": [
    {
     "name": "stdout",
     "output_type": "stream",
     "text": [
      "/srv/scratch/training_camp/tc2017/user1/analysis/deseq/nearestGenes_DEMedia_SCD_vs_SCE.txt.sigPeakNames\r\n",
      "/srv/scratch/training_camp/tc2017/user1/analysis/deseq/nearestGenes_DESalt_1_vs_0.txt.sigPeakNames\r\n",
      "/srv/scratch/training_camp/tc2017/user1/analysis/deseq/nearestGenes_DEStrain_WT_vs_cln3.txt.sigPeakNames\r\n",
      "/srv/scratch/training_camp/tc2017/user1/analysis/deseq/nearestGenes_DEStrain_WT_vs_whi5.txt.sigPeakNames\r\n",
      "/srv/scratch/training_camp/tc2017/user1/analysis/deseq/nearestGenes_DEStrain_WT_vs_whi5cln3.txt.sigPeakNames\r\n"
     ]
    }
   ],
   "source": [
    "cd $SIGNAL_DIR\n",
    "#ls ${DESEQ_DIR}DE*sigPeakNames\n",
    "$SRC_DIR/mapToNearestPeak.py --sigPeakInputFiles ${DESEQ_DIR}DE*sigPeakNames --peaks2genesFile $PEAKS_DIR/peaks2genes.bed"
   ]
  },
  {
   "cell_type": "markdown",
   "metadata": {},
   "source": [
    "The **mapToNearestPeak.py** script will produce a series of files named **nearestGenes_\\*** \n",
    "that contain the nearest genes to the differentially expressed peaks.\n",
    "\n",
    "Now use the saccharomyces Genome Databases (SGD’s) GO Term finder tools to check for GO Term enrichment (you may have to transfer the gene files to your local computer): http://www.yeastgenome.org/cgi-bin/GO/goTermFinder.pl\n",
    "\n",
    "\n",
    "Note: Try using the files \"nearestGenes_DESMedia_SCD_vs_SCE.txt.sigPeakNames\" and \"DESalt_1_vs_0.txt.sigPeakNames\". The other files (strain-specific analysis) have very few genes and will not produce interesting results."
   ]
  },
  {
   "cell_type": "code",
   "execution_count": null,
   "metadata": {
    "collapsed": true
   },
   "outputs": [],
   "source": []
  }
 ],
 "metadata": {
  "kernelspec": {
   "display_name": "Bash",
   "language": "bash",
   "name": "bash"
  },
  "language_info": {
   "codemirror_mode": "shell",
   "file_extension": ".sh",
   "mimetype": "text/x-sh",
   "name": "bash"
  }
 },
 "nbformat": 4,
 "nbformat_minor": 0
}
